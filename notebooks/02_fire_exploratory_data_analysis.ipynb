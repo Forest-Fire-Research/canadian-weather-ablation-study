{
 "cells": [
  {
   "cell_type": "markdown",
   "metadata": {},
   "source": [
    "# Import Block "
   ]
  },
  {
   "cell_type": "code",
   "execution_count": 1,
   "metadata": {},
   "outputs": [],
   "source": [
    "import geopandas as gpd\n",
    "\n",
    "import os\n",
    "from dotenv import load_dotenv"
   ]
  },
  {
   "cell_type": "markdown",
   "metadata": {},
   "source": [
    "# Load Environment"
   ]
  },
  {
   "cell_type": "code",
   "execution_count": 2,
   "metadata": {},
   "outputs": [],
   "source": [
    "load_dotenv(\".env\")\n",
    "\n",
    "CNFDB_PATH = os.getenv(\"CNFDB_PATH\")"
   ]
  },
  {
   "cell_type": "markdown",
   "metadata": {},
   "source": [
    "# Read Data"
   ]
  },
  {
   "cell_type": "code",
   "execution_count": 3,
   "metadata": {},
   "outputs": [],
   "source": [
    "# read fire data\n",
    "fire_gdf = gpd.read_file(CNFDB_PATH)\n",
    "fire_gdf = fire_gdf.to_crs(\"EPSG:4326\")"
   ]
  },
  {
   "cell_type": "markdown",
   "metadata": {},
   "source": [
    "# Data Exploration\n",
    "\n",
    "Notes:\n",
    "1. We have records of 59_539 fires of which 11_994 have no dates\n",
    "2. 24 of 11_994 no date fires can be correct to granularity of month\n",
    "3. 47_545 have REP_DATE and 25 of which are missing ACQ_DATE \n"
   ]
  },
  {
   "cell_type": "code",
   "execution_count": 4,
   "metadata": {},
   "outputs": [
    {
     "data": {
      "text/plain": [
       "59539"
      ]
     },
     "execution_count": 4,
     "metadata": {},
     "output_type": "execute_result"
    }
   ],
   "source": [
    "len(fire_gdf)"
   ]
  },
  {
   "cell_type": "code",
   "execution_count": 5,
   "metadata": {},
   "outputs": [
    {
     "data": {
      "text/html": [
       "<div>\n",
       "<style scoped>\n",
       "    .dataframe tbody tr th:only-of-type {\n",
       "        vertical-align: middle;\n",
       "    }\n",
       "\n",
       "    .dataframe tbody tr th {\n",
       "        vertical-align: top;\n",
       "    }\n",
       "\n",
       "    .dataframe thead th {\n",
       "        text-align: right;\n",
       "    }\n",
       "</style>\n",
       "<table border=\"1\" class=\"dataframe\">\n",
       "  <thead>\n",
       "    <tr style=\"text-align: right;\">\n",
       "      <th></th>\n",
       "      <th>SRC_AGENCY</th>\n",
       "      <th>FIRE_ID</th>\n",
       "      <th>FIRENAME</th>\n",
       "      <th>YEAR</th>\n",
       "      <th>MONTH</th>\n",
       "      <th>DAY</th>\n",
       "      <th>REP_DATE</th>\n",
       "      <th>DATE_TYPE</th>\n",
       "      <th>OUT_DATE</th>\n",
       "      <th>DECADE</th>\n",
       "      <th>...</th>\n",
       "      <th>UNBURN_REM</th>\n",
       "      <th>MORE_INFO</th>\n",
       "      <th>POLY_DATE</th>\n",
       "      <th>CFS_REF_ID</th>\n",
       "      <th>CFS_NOTE1</th>\n",
       "      <th>CFS_NOTE2</th>\n",
       "      <th>AG_SRCFILE</th>\n",
       "      <th>ACQ_DATE</th>\n",
       "      <th>SRC_AGY2</th>\n",
       "      <th>geometry</th>\n",
       "    </tr>\n",
       "  </thead>\n",
       "  <tbody>\n",
       "    <tr>\n",
       "      <th>0</th>\n",
       "      <td>BC</td>\n",
       "      <td>2004-C10175</td>\n",
       "      <td>None</td>\n",
       "      <td>2004</td>\n",
       "      <td>6</td>\n",
       "      <td>23</td>\n",
       "      <td>2004/06/23</td>\n",
       "      <td>Report date</td>\n",
       "      <td>0000/00/00</td>\n",
       "      <td>2000-2009</td>\n",
       "      <td>...</td>\n",
       "      <td>None</td>\n",
       "      <td>None</td>\n",
       "      <td>2007/05/17</td>\n",
       "      <td>BC-2004-C10175</td>\n",
       "      <td>None</td>\n",
       "      <td>None</td>\n",
       "      <td>H_FIRE_PLY</td>\n",
       "      <td>2011/06/10</td>\n",
       "      <td>BC</td>\n",
       "      <td>POLYGON Z ((-124.6106 53.08084 0, -124.6099 53...</td>\n",
       "    </tr>\n",
       "    <tr>\n",
       "      <th>1</th>\n",
       "      <td>BC</td>\n",
       "      <td>2004-C10176</td>\n",
       "      <td>None</td>\n",
       "      <td>2004</td>\n",
       "      <td>6</td>\n",
       "      <td>23</td>\n",
       "      <td>2004/06/23</td>\n",
       "      <td>Report date</td>\n",
       "      <td>0000/00/00</td>\n",
       "      <td>2000-2009</td>\n",
       "      <td>...</td>\n",
       "      <td>None</td>\n",
       "      <td>None</td>\n",
       "      <td>2007/05/17</td>\n",
       "      <td>BC-2004-C10176</td>\n",
       "      <td>None</td>\n",
       "      <td>None</td>\n",
       "      <td>H_FIRE_PLY</td>\n",
       "      <td>2011/06/10</td>\n",
       "      <td>BC</td>\n",
       "      <td>POLYGON Z ((-124.48262 53.06162 0, -124.4815 5...</td>\n",
       "    </tr>\n",
       "  </tbody>\n",
       "</table>\n",
       "<p>2 rows × 27 columns</p>\n",
       "</div>"
      ],
      "text/plain": [
       "  SRC_AGENCY      FIRE_ID FIRENAME  YEAR  MONTH  DAY    REP_DATE    DATE_TYPE  \\\n",
       "0         BC  2004-C10175     None  2004      6   23  2004/06/23  Report date   \n",
       "1         BC  2004-C10176     None  2004      6   23  2004/06/23  Report date   \n",
       "\n",
       "     OUT_DATE     DECADE  ...  UNBURN_REM  MORE_INFO   POLY_DATE  \\\n",
       "0  0000/00/00  2000-2009  ...        None       None  2007/05/17   \n",
       "1  0000/00/00  2000-2009  ...        None       None  2007/05/17   \n",
       "\n",
       "       CFS_REF_ID CFS_NOTE1 CFS_NOTE2  AG_SRCFILE    ACQ_DATE SRC_AGY2  \\\n",
       "0  BC-2004-C10175      None      None  H_FIRE_PLY  2011/06/10       BC   \n",
       "1  BC-2004-C10176      None      None  H_FIRE_PLY  2011/06/10       BC   \n",
       "\n",
       "                                            geometry  \n",
       "0  POLYGON Z ((-124.6106 53.08084 0, -124.6099 53...  \n",
       "1  POLYGON Z ((-124.48262 53.06162 0, -124.4815 5...  \n",
       "\n",
       "[2 rows x 27 columns]"
      ]
     },
     "execution_count": 5,
     "metadata": {},
     "output_type": "execute_result"
    }
   ],
   "source": [
    "fire_gdf.head(2)"
   ]
  },
  {
   "cell_type": "code",
   "execution_count": 6,
   "metadata": {},
   "outputs": [
    {
     "data": {
      "text/plain": [
       "Index(['SRC_AGENCY', 'FIRE_ID', 'FIRENAME', 'YEAR', 'MONTH', 'DAY', 'REP_DATE',\n",
       "       'DATE_TYPE', 'OUT_DATE', 'DECADE', 'SIZE_HA', 'CALC_HA', 'CAUSE',\n",
       "       'MAP_SOURCE', 'SOURCE_KEY', 'MAP_METHOD', 'WATER_REM', 'UNBURN_REM',\n",
       "       'MORE_INFO', 'POLY_DATE', 'CFS_REF_ID', 'CFS_NOTE1', 'CFS_NOTE2',\n",
       "       'AG_SRCFILE', 'ACQ_DATE', 'SRC_AGY2', 'geometry'],\n",
       "      dtype='object')"
      ]
     },
     "execution_count": 6,
     "metadata": {},
     "output_type": "execute_result"
    }
   ],
   "source": [
    "# list columns\n",
    "fire_gdf.columns"
   ]
  },
  {
   "cell_type": "markdown",
   "metadata": {},
   "source": [
    "## REP_DATE Missing Value Issue Exploration\n",
    "\n",
    "Note: some dates are set to \"0000/00/00\" in \"REP_DATE\" columns. This section is lokking to explote and try to mitigate the issue and find the actual date."
   ]
  },
  {
   "cell_type": "code",
   "execution_count": 7,
   "metadata": {},
   "outputs": [],
   "source": [
    "# filter data with no dates\n",
    "no_date_fire = fire_gdf[fire_gdf['REP_DATE'] == \"0000/00/00\"]"
   ]
  },
  {
   "cell_type": "code",
   "execution_count": 8,
   "metadata": {},
   "outputs": [
    {
     "data": {
      "text/plain": [
       "11994"
      ]
     },
     "execution_count": 8,
     "metadata": {},
     "output_type": "execute_result"
    }
   ],
   "source": [
    "# list count of dates\n",
    "len(no_date_fire)"
   ]
  },
  {
   "cell_type": "code",
   "execution_count": 9,
   "metadata": {},
   "outputs": [
    {
     "data": {
      "text/plain": [
       "OUT_DATE\n",
       "0000/00/00    11990\n",
       "1998/05/30        1\n",
       "1998/06/28        1\n",
       "2000/07/31        1\n",
       "1899/12/30        1\n",
       "Name: count, dtype: int64"
      ]
     },
     "execution_count": 9,
     "metadata": {},
     "output_type": "execute_result"
    }
   ],
   "source": [
    "no_date_fire['OUT_DATE'].value_counts()"
   ]
  },
  {
   "cell_type": "code",
   "execution_count": 10,
   "metadata": {},
   "outputs": [
    {
     "data": {
      "text/plain": [
       "<Axes: xlabel='YEAR'>"
      ]
     },
     "execution_count": 10,
     "metadata": {},
     "output_type": "execute_result"
    },
    {
     "data": {
      "image/png": "[encoded data removed]",
      "text/plain": [
       "<Figure size 1500x500 with 1 Axes>"
      ]
     },
     "metadata": {},
     "output_type": "display_data"
    }
   ],
   "source": [
    "no_date_fire['YEAR'].value_counts().sort_index().plot(\n",
    "    kind='bar',\n",
    "    figsize=(15,5)\n",
    ")"
   ]
  },
  {
   "cell_type": "code",
   "execution_count": 11,
   "metadata": {},
   "outputs": [
    {
     "data": {
      "text/plain": [
       "MONTH\n",
       "0     11970\n",
       "5        13\n",
       "8         4\n",
       "4         2\n",
       "10        2\n",
       "9         1\n",
       "7         1\n",
       "6         1\n",
       "Name: count, dtype: int64"
      ]
     },
     "execution_count": 11,
     "metadata": {},
     "output_type": "execute_result"
    }
   ],
   "source": [
    "no_date_fire['MONTH'].value_counts()"
   ]
  },
  {
   "cell_type": "code",
   "execution_count": 12,
   "metadata": {},
   "outputs": [
    {
     "data": {
      "text/plain": [
       "DAY\n",
       "0    11994\n",
       "Name: count, dtype: int64"
      ]
     },
     "execution_count": 12,
     "metadata": {},
     "output_type": "execute_result"
    }
   ],
   "source": [
    "no_date_fire['DAY'].value_counts()"
   ]
  },
  {
   "cell_type": "code",
   "execution_count": 13,
   "metadata": {},
   "outputs": [
    {
     "data": {
      "text/plain": [
       "CFS_NOTE1\n",
       "Missing attributes. SIZE_HA calculated by CFS                                           5643\n",
       "Missing attributes                                                                       599\n",
       "CFS dissolved by fire-id to produce multipart poly                                       232\n",
       "Region: ZF                                                                               148\n",
       "Region: CR                                                                               140\n",
       "Fire year unknown, refer to decade                                                       107\n",
       "included from PC-NA/NI                                                                    87\n",
       "Region: VQ                                                                                82\n",
       "Region: FS                                                                                71\n",
       "Region: HY                                                                                33\n",
       "Region: SM                                                                                33\n",
       "Region: SS                                                                                30\n",
       "Region: EV                                                                                27\n",
       "date and cause extracted from point data                                                  14\n",
       "Historical polygon updated based on AB spatial data change log                             7\n",
       "CFS created multipart poly using fireid                                                    5\n",
       "date aquired from firepoint data                                                           2\n",
       "Region: JF                                                                                 2\n",
       "X-border fire                                                                              2\n",
       "Poly outside of AB bdry                                                                    1\n",
       "src data reported total size_ha as 583002 ha. cfs editied to rep only area inside sk       1\n",
       "modified edge at boundary                                                                  1\n",
       "Region: YT                                                                                 1\n",
       "Region: PC                                                                                 1\n",
       "Region:                                                                                    1\n",
       "no assoc pnt. There is a pnt 2006GR12                                                      1\n",
       "no associated point record                                                                 1\n",
       "Name: count, dtype: int64"
      ]
     },
     "execution_count": 13,
     "metadata": {},
     "output_type": "execute_result"
    }
   ],
   "source": [
    "no_date_fire['CFS_NOTE1'].value_counts()"
   ]
  },
  {
   "cell_type": "markdown",
   "metadata": {},
   "source": [
    "Note: It would to recommended to discard the values that as the dat is not retrivable."
   ]
  },
  {
   "cell_type": "markdown",
   "metadata": {},
   "source": [
    "## ACQ_DATE Missing Value Issue Exploration"
   ]
  },
  {
   "cell_type": "code",
   "execution_count": 14,
   "metadata": {},
   "outputs": [],
   "source": [
    "# get the missing value data\n",
    "missing_acq_after_rep_date = fire_gdf[fire_gdf[\"REP_DATE\"] != \"0000/00/00\"]\n",
    "missing_acq_after_rep_date = missing_acq_after_rep_date[missing_acq_after_rep_date['ACQ_DATE'] == \"0000/00/00\"]"
   ]
  },
  {
   "cell_type": "code",
   "execution_count": 15,
   "metadata": {},
   "outputs": [
    {
     "data": {
      "text/plain": [
       "25"
      ]
     },
     "execution_count": 15,
     "metadata": {},
     "output_type": "execute_result"
    }
   ],
   "source": [
    "len(missing_acq_after_rep_date)"
   ]
  },
  {
   "cell_type": "code",
   "execution_count": 16,
   "metadata": {},
   "outputs": [
    {
     "data": {
      "text/html": [
       "<div>\n",
       "<style scoped>\n",
       "    .dataframe tbody tr th:only-of-type {\n",
       "        vertical-align: middle;\n",
       "    }\n",
       "\n",
       "    .dataframe tbody tr th {\n",
       "        vertical-align: top;\n",
       "    }\n",
       "\n",
       "    .dataframe thead th {\n",
       "        text-align: right;\n",
       "    }\n",
       "</style>\n",
       "<table border=\"1\" class=\"dataframe\">\n",
       "  <thead>\n",
       "    <tr style=\"text-align: right;\">\n",
       "      <th></th>\n",
       "      <th>REP_DATE</th>\n",
       "      <th>CALC_HA</th>\n",
       "    </tr>\n",
       "  </thead>\n",
       "  <tbody>\n",
       "    <tr>\n",
       "      <th>56891</th>\n",
       "      <td>2008/06/13</td>\n",
       "      <td>1713.996364</td>\n",
       "    </tr>\n",
       "    <tr>\n",
       "      <th>56892</th>\n",
       "      <td>2008/06/13</td>\n",
       "      <td>19.560870</td>\n",
       "    </tr>\n",
       "    <tr>\n",
       "      <th>56893</th>\n",
       "      <td>2008/06/13</td>\n",
       "      <td>4.277159</td>\n",
       "    </tr>\n",
       "    <tr>\n",
       "      <th>56894</th>\n",
       "      <td>2008/06/13</td>\n",
       "      <td>4.130933</td>\n",
       "    </tr>\n",
       "    <tr>\n",
       "      <th>56895</th>\n",
       "      <td>2009/04/29</td>\n",
       "      <td>647.953157</td>\n",
       "    </tr>\n",
       "    <tr>\n",
       "      <th>56904</th>\n",
       "      <td>1991/05/21</td>\n",
       "      <td>56.528635</td>\n",
       "    </tr>\n",
       "    <tr>\n",
       "      <th>56905</th>\n",
       "      <td>1991/07/10</td>\n",
       "      <td>28.871413</td>\n",
       "    </tr>\n",
       "    <tr>\n",
       "      <th>56906</th>\n",
       "      <td>1991/05/16</td>\n",
       "      <td>4.370132</td>\n",
       "    </tr>\n",
       "    <tr>\n",
       "      <th>56907</th>\n",
       "      <td>1991/05/22</td>\n",
       "      <td>14.911022</td>\n",
       "    </tr>\n",
       "    <tr>\n",
       "      <th>56909</th>\n",
       "      <td>1992/06/12</td>\n",
       "      <td>504.875044</td>\n",
       "    </tr>\n",
       "    <tr>\n",
       "      <th>56913</th>\n",
       "      <td>1999/04/28</td>\n",
       "      <td>581.262874</td>\n",
       "    </tr>\n",
       "    <tr>\n",
       "      <th>56914</th>\n",
       "      <td>1999/04/28</td>\n",
       "      <td>54.434654</td>\n",
       "    </tr>\n",
       "    <tr>\n",
       "      <th>56915</th>\n",
       "      <td>1999/04/28</td>\n",
       "      <td>8.134786</td>\n",
       "    </tr>\n",
       "    <tr>\n",
       "      <th>56916</th>\n",
       "      <td>1999/04/28</td>\n",
       "      <td>0.407813</td>\n",
       "    </tr>\n",
       "    <tr>\n",
       "      <th>56917</th>\n",
       "      <td>2000/05/18</td>\n",
       "      <td>146.820999</td>\n",
       "    </tr>\n",
       "    <tr>\n",
       "      <th>56919</th>\n",
       "      <td>2003/05/20</td>\n",
       "      <td>334.709974</td>\n",
       "    </tr>\n",
       "    <tr>\n",
       "      <th>56920</th>\n",
       "      <td>2003/05/18</td>\n",
       "      <td>39.791609</td>\n",
       "    </tr>\n",
       "    <tr>\n",
       "      <th>56921</th>\n",
       "      <td>2003/05/18</td>\n",
       "      <td>73.180005</td>\n",
       "    </tr>\n",
       "    <tr>\n",
       "      <th>56922</th>\n",
       "      <td>2003/07/10</td>\n",
       "      <td>11.953679</td>\n",
       "    </tr>\n",
       "    <tr>\n",
       "      <th>57104</th>\n",
       "      <td>2006/05/14</td>\n",
       "      <td>20.524006</td>\n",
       "    </tr>\n",
       "    <tr>\n",
       "      <th>57106</th>\n",
       "      <td>1991/06/25</td>\n",
       "      <td>153.524013</td>\n",
       "    </tr>\n",
       "    <tr>\n",
       "      <th>57108</th>\n",
       "      <td>1992/05/23</td>\n",
       "      <td>52.417161</td>\n",
       "    </tr>\n",
       "    <tr>\n",
       "      <th>57109</th>\n",
       "      <td>2003/05/21</td>\n",
       "      <td>34.793448</td>\n",
       "    </tr>\n",
       "    <tr>\n",
       "      <th>57237</th>\n",
       "      <td>1997/07/25</td>\n",
       "      <td>30.384261</td>\n",
       "    </tr>\n",
       "    <tr>\n",
       "      <th>57238</th>\n",
       "      <td>1999/06/11</td>\n",
       "      <td>84.320832</td>\n",
       "    </tr>\n",
       "  </tbody>\n",
       "</table>\n",
       "</div>"
      ],
      "text/plain": [
       "         REP_DATE      CALC_HA\n",
       "56891  2008/06/13  1713.996364\n",
       "56892  2008/06/13    19.560870\n",
       "56893  2008/06/13     4.277159\n",
       "56894  2008/06/13     4.130933\n",
       "56895  2009/04/29   647.953157\n",
       "56904  1991/05/21    56.528635\n",
       "56905  1991/07/10    28.871413\n",
       "56906  1991/05/16     4.370132\n",
       "56907  1991/05/22    14.911022\n",
       "56909  1992/06/12   504.875044\n",
       "56913  1999/04/28   581.262874\n",
       "56914  1999/04/28    54.434654\n",
       "56915  1999/04/28     8.134786\n",
       "56916  1999/04/28     0.407813\n",
       "56917  2000/05/18   146.820999\n",
       "56919  2003/05/20   334.709974\n",
       "56920  2003/05/18    39.791609\n",
       "56921  2003/05/18    73.180005\n",
       "56922  2003/07/10    11.953679\n",
       "57104  2006/05/14    20.524006\n",
       "57106  1991/06/25   153.524013\n",
       "57108  1992/05/23    52.417161\n",
       "57109  2003/05/21    34.793448\n",
       "57237  1997/07/25    30.384261\n",
       "57238  1999/06/11    84.320832"
      ]
     },
     "execution_count": 16,
     "metadata": {},
     "output_type": "execute_result"
    }
   ],
   "source": [
    "missing_acq_after_rep_date[['REP_DATE', 'CALC_HA']]"
   ]
  },
  {
   "cell_type": "markdown",
   "metadata": {},
   "source": [
    "Note: \n",
    "- We can put the mssing values equla to REP_DATE since the size is so small\n",
    "- This data is of no imprtance we can discard as well (i.e. discard the whole column)"
   ]
  },
  {
   "cell_type": "markdown",
   "metadata": {},
   "source": [
    "## POLY_DATE Missing Value Issue Exploration"
   ]
  },
  {
   "cell_type": "code",
   "execution_count": 17,
   "metadata": {},
   "outputs": [],
   "source": [
    "# get the missing value data\n",
    "missing_poly_after_rep_date = fire_gdf[fire_gdf[\"REP_DATE\"] != \"0000/00/00\"]\n",
    "missing_poly_after_rep_date = missing_poly_after_rep_date[missing_poly_after_rep_date['POLY_DATE'] == \"0000/00/00\"]"
   ]
  },
  {
   "cell_type": "code",
   "execution_count": 18,
   "metadata": {},
   "outputs": [
    {
     "data": {
      "text/plain": [
       "20716"
      ]
     },
     "execution_count": 18,
     "metadata": {},
     "output_type": "execute_result"
    }
   ],
   "source": [
    "len(missing_poly_after_rep_date)"
   ]
  },
  {
   "cell_type": "markdown",
   "metadata": {},
   "source": [
    "Note:\n",
    "\n",
    "- The size of the missing value for the polygon aacqusition date is lage \n",
    "- Also the date of polygon is not of importance\n",
    "- It would be tetter to discard this column"
   ]
  },
  {
   "cell_type": "markdown",
   "metadata": {},
   "source": []
  }
 ],
 "metadata": {
  "kernelspec": {
   "display_name": ".venv",
   "language": "python",
   "name": "python3"
  },
  "language_info": {
   "codemirror_mode": {
    "name": "ipython",
    "version": 3
   },
   "file_extension": ".py",
   "mimetype": "text/x-python",
   "name": "python",
   "nbconvert_exporter": "python",
   "pygments_lexer": "ipython3",
   "version": "3.10.12"
  },
  "orig_nbformat": 4
 },
 "nbformat": 4,
 "nbformat_minor": 2
}
